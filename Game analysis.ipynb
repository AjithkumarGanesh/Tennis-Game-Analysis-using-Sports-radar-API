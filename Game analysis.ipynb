{
 "cells": [
  {
   "cell_type": "markdown",
   "id": "1059d86b-25ad-4b97-8ae4-9cbe189a4b52",
   "metadata": {},
   "source": [
    "COMPETITION DATA"
   ]
  },
  {
   "cell_type": "code",
   "execution_count": 16,
   "id": "8c2af4dd-0eb1-4cb8-b801-cc22979b6ae5",
   "metadata": {},
   "outputs": [],
   "source": [
    "#Get the tennis COMPETITION data using sports radar api \n",
    "import requests\n",
    "url = \"https://api.sportradar.com/tennis/trial/v3/en/competitions.json?api_key=8VJ1pyztQfFytJ3kBZorxHmVXZbOlUXD8aAQsWX7\"\n",
    "headers = {\"accept\": \"application/json\"}\n",
    "response = requests.get(url, headers=headers)"
   ]
  },
  {
   "cell_type": "code",
   "execution_count": 18,
   "id": "c38f1cfd-0e5c-4d99-af13-b218b8c985dd",
   "metadata": {},
   "outputs": [],
   "source": [
    "#convert json response to dictionary\n",
    "import json\n",
    "if response.status_code ==200: # Error handling\n",
    "    formatted_response=response.json() # convert json response to dictionary\n",
    "else:\n",
    "    print(f\"Error: {response.status_code} - {response.reason}\") #error handling"
   ]
  },
  {
   "cell_type": "code",
   "execution_count": 19,
   "id": "2d170b44-1ba6-4fb6-b727-03894b4a4b7e",
   "metadata": {},
   "outputs": [],
   "source": [
    "#parse and exract the competition's list from the response\n",
    "competitions=formatted_response.get(\"competitions\",[]) #to store competitions list from the response into a new empty list "
   ]
  },
  {
   "cell_type": "code",
   "execution_count": 20,
   "id": "dbf34b7d-57c9-4338-93a7-eea905f4007d",
   "metadata": {},
   "outputs": [
    {
     "name": "stdout",
     "output_type": "stream",
     "text": [
      "           category_id category_name\n",
      "0      sr:category:181    Hopman Cup\n",
      "1        sr:category:3           ATP\n",
      "2       sr:category:72    Challenger\n",
      "3        sr:category:6           WTA\n",
      "4       sr:category:76     Davis Cup\n",
      "...                ...           ...\n",
      "5826  sr:category:2517     UTR Women\n",
      "5827  sr:category:2517     UTR Women\n",
      "5828  sr:category:2517     UTR Women\n",
      "5829   sr:category:871      WTA 125K\n",
      "5830   sr:category:871      WTA 125K\n",
      "\n",
      "[5831 rows x 2 columns]\n"
     ]
    }
   ],
   "source": [
    "#Transform nested json structures into a falt relational schema\n",
    "import pandas as pd\n",
    "competition_dataframe=pd.json_normalize(competitions, sep=\"_\") #to convert the list into table format using pandas normalization.Used seperator to join nested keys.\n",
    "competition_dataframe.fillna(\"No value\",inplace=True) #used fillna method to replace NaN with customer values.\n",
    "competition_dataframe=competition_dataframe.rename(columns={\"id\": \"competition_id\", \"name\": \"competition_name\"}) #renaming column names\n",
    "categories_columns=['category_id','category_name']  #select required columns for table1-categories table\n",
    "categories_table=competition_dataframe[categories_columns] #update the data frame with only the selected columns\n",
    "competitions_columns=['competition_id','competition_name','parent_id','type','gender','category_id']  #select required columns for table2-categories table\n",
    "competitions_table=competition_dataframe[competitions_columns]   #update the data frame with only the selected columns\n",
    "#categories_table.to_csv(\"Table1_Categories.csv\", index=False)  #convert dataframe into csv file.\n",
    "#competitions_table.to_csv(\"Table2_Competitions.csv\", index=False) #convert dataframe into csv file.\n",
    "print(categories_table)"
   ]
  },
  {
   "cell_type": "code",
   "execution_count": 54,
   "id": "a16a7372-8ad7-4ea9-a99e-1244e3559a9d",
   "metadata": {},
   "outputs": [],
   "source": [
    "#Complete code for COMPETITION DATA using try-except\n",
    "import requests\n",
    "import json\n",
    "import pandas as pd\n",
    "\n",
    "#Get the tennis COMPETITION data using sports radar api\n",
    "url = \"https://api.sportradar.com/tennis/trial/v3/en/competitions.json?api_key=8VJ1pyztQfFytJ3kBZorxHmVXZbOlUXD8aAQsWX7\"\n",
    "headers = {\"accept\": \"application/json\"}\n",
    "response = requests.get(url, headers=headers) \n",
    "\n",
    "try:\n",
    "    if response.status_code ==200: # Error handling\n",
    "        formatted_response=response.json() # convert json response to dictionary\n",
    "        #parse and exract the competition's list from the response\n",
    "        competitions=formatted_response.get(\"competitions\",[]) #to store competitions list from the response into a new empty list \n",
    "        #Transform nested json structures into a falt relational schema\n",
    "        competition_dataframe=pd.json_normalize(competitions, sep=\"_\") #to convert the list into table format using pandas normalization.Used seperator to join nested keys.\n",
    "        competition_dataframe.fillna(\"No value\",inplace=True) #used fillna method to replace NaN with customer values.\n",
    "        competition_dataframe=competition_dataframe.rename(columns={\"id\": \"competition_id\", \"name\": \"competition_name\"}) #renaming column names\n",
    "        categories_columns=['category_id','category_name']  #select required columns for table1-categories table\n",
    "        categories_table=competition_dataframe[categories_columns] #update the data frame with only the selected columns\n",
    "        competitions_columns=['competition_id','competition_name','parent_id','type','gender','category_id']  #select required columns for table2-categories table\n",
    "        competitions_table=competition_dataframe[competitions_columns]   #update the data frame with only the selected columns\n",
    "        categories_table.to_csv(\"Table1_Categories.csv\", index=False)  #convert dataframe into csv file.\n",
    "        competitions_table.to_csv(\"Table2_Competitions.csv\", index=False) #convert dataframe into csv file.\n",
    "    else:\n",
    "        print(f\"Error: {response.status_code} - {response.reason}\") #error handling\n",
    "        print(f\"Error Details: {response.text}\")\n",
    "except requests.exceptions.RequestException as e:\n",
    "    print(f\"Error found: {e}\")\n"
   ]
  },
  {
   "cell_type": "markdown",
   "id": "f1248a13-791b-48d6-b2b6-1ddbb1e938fc",
   "metadata": {},
   "source": [
    "COMPLEXES DATA"
   ]
  },
  {
   "cell_type": "code",
   "execution_count": 7,
   "id": "984c03dd-6a14-4a40-b72a-b79555aa208e",
   "metadata": {},
   "outputs": [],
   "source": [
    "#Get the tennis COMPLEXES data using sports radar api\n",
    "import requests\n",
    "url = \"https://api.sportradar.com/tennis/trial/v3/en/complexes.json?api_key=8VJ1pyztQfFytJ3kBZorxHmVXZbOlUXD8aAQsWX7\"\n",
    "headers = {\"accept\": \"application/json\"}\n",
    "response = requests.get(url, headers=headers)"
   ]
  },
  {
   "cell_type": "code",
   "execution_count": 8,
   "id": "ce1f48a2-1cf1-43b0-8b4f-2aad96f82647",
   "metadata": {},
   "outputs": [],
   "source": [
    "#convert json response to dictionary\n",
    "import json\n",
    "if response.status_code ==200: # Error handling\n",
    "    formatted_complexes_response=response.json() # convert json response to dictionary\n",
    "else:\n",
    "    print(f\"Error: {response.status_code} - {response.reason}\") #error handling"
   ]
  },
  {
   "cell_type": "code",
   "execution_count": 9,
   "id": "e6350304-3023-47da-be96-d1fa2530ee5f",
   "metadata": {},
   "outputs": [],
   "source": [
    "#parse and exract the competition's list from the response\n",
    "complexes_list=[]  #create an empty list to store the required values for Complexes Table\n",
    "for complexes in formatted_complexes_response[\"complexes\"]: #used for loop to access or to itrate over required values. Created a temp list and store the value\n",
    "   temp_complexes_list={\n",
    "       \"complex_id\":complexes.get(\"id\"),\n",
    "       \"complex_name\":complexes.get(\"name\")\n",
    "   }\n",
    "   complexes_list.append(temp_complexes_list) #appending temp values to empty list\n"
   ]
  },
  {
   "cell_type": "code",
   "execution_count": 47,
   "id": "9baff43e-2b00-4568-9d9e-2b1dc8edbef3",
   "metadata": {},
   "outputs": [],
   "source": [
    "import pandas as pd\n",
    "complexes_dataframe=pd.DataFrame(complexes_list) #to convert the list into table format using pandas dataframe.\n",
    "complexes_dataframe.fillna(\"No value\",inplace=True) #used fillna method to replace NaN with customer values."
   ]
  },
  {
   "cell_type": "code",
   "execution_count": 55,
   "id": "f05d8c02-efc6-4912-a030-9144301a2e5b",
   "metadata": {},
   "outputs": [],
   "source": [
    "complexes_table=complexes_dataframe.to_csv(\"Table3_Complexes.csv\", index=False) #convert dataframe into csv file."
   ]
  },
  {
   "cell_type": "code",
   "execution_count": 43,
   "id": "7dcc8c51-4d9a-4101-82f4-3d2ab573c811",
   "metadata": {},
   "outputs": [],
   "source": [
    "complex_venue_list=[]  #create an empty list to store the required values for Complexes Table\n",
    "for top_level_complex in formatted_complexes_response[\"complexes\"]: ##used for loop to access or to itrate over required values. Created a temp list and store the value\n",
    "    for venue in top_level_complex.get('venues', []):  #used nested for loop to access nested list\n",
    "        temp_venue_list = {\n",
    "            \"venue_id\": venue['id'],\n",
    "            \"venue_name\": venue['name'],\n",
    "            \"city_name\": venue['city_name'],\n",
    "            \"country_name\": venue['country_name'],\n",
    "            \"country_code\": venue['country_code'],\n",
    "            \"timezone\": venue['timezone'],\n",
    "            \"complex_id\": top_level_complex['id'],\n",
    "        }\n",
    "        complex_venue_list.append(temp_venue_list) #appending temp values to empty list"
   ]
  },
  {
   "cell_type": "code",
   "execution_count": 48,
   "id": "c57f6990-f4bb-4a10-b15d-91ab516af49c",
   "metadata": {},
   "outputs": [],
   "source": [
    "import pandas as pd\n",
    "venue_dataframe=pd.DataFrame(complex_venue_list) #to convert the list into table format using pandas dataframe.\n",
    "venue_dataframe.fillna(\"No value\",inplace=True) #used fillna method to replace NaN with customer values."
   ]
  },
  {
   "cell_type": "code",
   "execution_count": 56,
   "id": "314d9747-0ad7-4ece-acdf-094623ef3d7e",
   "metadata": {},
   "outputs": [],
   "source": [
    "Venues_table=venue_dataframe.to_csv(\"Table4_Venues.csv\", index=False) #convert dataframe into csv file."
   ]
  },
  {
   "cell_type": "code",
   "execution_count": 57,
   "id": "ef988450-266c-4682-9817-77a99ba70bc5",
   "metadata": {},
   "outputs": [],
   "source": [
    "#Complete code for COMPETITION DATA using try-except\n",
    "import requests\n",
    "import json\n",
    "import pandas as pd\n",
    "\n",
    "#Get the tennis COMPLEXES data using sports radar api\n",
    "import requests\n",
    "url = \"https://api.sportradar.com/tennis/trial/v3/en/complexes.json?api_key=8VJ1pyztQfFytJ3kBZorxHmVXZbOlUXD8aAQsWX7\"\n",
    "headers = {\"accept\": \"application/json\"}\n",
    "\n",
    "try:\n",
    "    response = requests.get(url, headers=headers)\n",
    "    if response.status_code ==200: # Error handling\n",
    "        formatted_complexes_response=response.json() # convert json response to dictionary\n",
    "        \n",
    "        #parse and exract the competition's list from the response for Table 1\n",
    "        complexes_list=[]  #create an empty list to store the required values for Complexes Table\n",
    "        for complexes in formatted_complexes_response[\"complexes\"]: #used for loop to access or to itrate over required values. Created a temp list and store the value\n",
    "            temp_complexes_list={\n",
    "                \"complex_id\":complexes.get(\"id\"),\n",
    "                \"complex_name\":complexes.get(\"name\")\n",
    "            }\n",
    "            complexes_list.append(temp_complexes_list) #appending temp values to empty list\n",
    "        complexes_dataframe=pd.DataFrame(complexes_list) #to convert the list into table format using pandas dataframe.\n",
    "        complexes_dataframe.fillna(\"No value\",inplace=True) #used fillna method to replace NaN with customer values.\n",
    "        complexes_table=complexes_dataframe.to_csv(\"Table3_Complexes.csv\", index=False) #convert dataframe into csv file.\n",
    "\n",
    "        #parse and exract the competition's list from the response for Table 2\n",
    "        complex_venue_list=[]  #create an empty list to store the required values for Complexes Table\n",
    "        for top_level_complex in formatted_complexes_response[\"complexes\"]: ##used for loop to access or to itrate over required values. Created a temp list and store the value\n",
    "            for venue in top_level_complex.get('venues', []):  #used nested for loop to access nested list\n",
    "                temp_venue_list = {\n",
    "                    \"venue_id\": venue['id'],\n",
    "                    \"venue_name\": venue['name'],\n",
    "                    \"city_name\": venue['city_name'],\n",
    "                    \"country_name\": venue['country_name'],\n",
    "                    \"country_code\": venue['country_code'],\n",
    "                    \"timezone\": venue['timezone'],\n",
    "                    \"complex_id\": top_level_complex['id'],\n",
    "                }\n",
    "                complex_venue_list.append(temp_venue_list) #appending temp values to empty list\n",
    "        venue_dataframe=pd.DataFrame(complex_venue_list) #to convert the list into table format using pandas dataframe.\n",
    "        venue_dataframe.fillna(\"No value\",inplace=True) #used fillna method to replace NaN with customer values.\n",
    "        Venues_table=venue_dataframe.to_csv(\"Table4_Venues.csv\", index=False) #convert dataframe into csv file.\n",
    "            \n",
    "        \n",
    "    else:\n",
    "        print(f\"Error: {response.status_code} - {response.reason}\") #error handling\n",
    "        print(f\"Error Details: {response.text}\")\n",
    "except requests.exceptions.RequestException as e:\n",
    "    print(f\"Error found: {e}\")\n",
    "    \n"
   ]
  },
  {
   "cell_type": "markdown",
   "id": "535e4deb-6662-4687-a6d9-38cf940df850",
   "metadata": {},
   "source": [
    " DOUBLES COMPETITOR RANKINGS DATA"
   ]
  },
  {
   "cell_type": "code",
   "execution_count": 4,
   "id": "6be75334-af69-4bf1-876b-a45918161042",
   "metadata": {},
   "outputs": [],
   "source": [
    "#Complete code for DOUBLES COMPETITOR RANKINGS DATA using try-except\n",
    "import requests\n",
    "import json\n",
    "import pandas as pd\n",
    "\n",
    "#Get the tennis DOUBLES COMPETITOR RANKINGS DATA using sports radar api\n",
    "url = \"https://api.sportradar.com/tennis/trial/v3/en/double_competitors_rankings.json?api_key=8VJ1pyztQfFytJ3kBZorxHmVXZbOlUXD8aAQsWX7\"\n",
    "headers = {\"accept\": \"application/json\"}\n",
    "\n",
    "try:\n",
    "    response = requests.get(url, headers=headers)\n",
    "    if response.status_code ==200: # Error handling\n",
    "        formatted_doubles_response=response.json() # convert json response to dictionary\n",
    "        \n",
    "        #parse and exract the competition's list from the response for Table 1\n",
    "        competitor_rankings_list=[]  #create an empty list to store the required values for Complexes Table\n",
    "        for rankings in formatted_doubles_response[\"rankings\"]: ##used for loop to access or to itrate over required values. Created a temp list and store the value\n",
    "            for competitor_rankings in rankings.get('competitor_rankings', []):  #used nested for loop to access nested list\n",
    "                temp_competitor_rankings_list = {\n",
    "                    \"rank\": competitor_rankings['rank'],\n",
    "                    \"movement\": competitor_rankings['movement'],\n",
    "                    \"points\": competitor_rankings['points'],\n",
    "                    \"competitions_played\": competitor_rankings['competitions_played'],\n",
    "                    \"competitor_id\": competitor_rankings['competitor'].get('id')\n",
    "                }\n",
    "                competitor_rankings_list.append(temp_competitor_rankings_list) #appending temp values to empty list\n",
    "        competitor_rankings_dataframe=pd.DataFrame(competitor_rankings_list) #to convert the list into table format using pandas dataframe.\n",
    "        competitor_rankings_dataframe.index.name=\"rank_id\"\n",
    "        competitor_rankings_dataframe.fillna(\"No value\",inplace=True) #used fillna method to replace NaN with customer values.\n",
    "        competitor_rankings_table=competitor_rankings_dataframe.to_csv(\"Table5_Competitor_Rankings.csv\", index=True) #convert dataframe into csv file.\n",
    "\n",
    "        #parse and exract the competition's list from the response for Table 2\n",
    "        competitor_list=[]  #create an empty list to store the required values for Complexes Table\n",
    "        for top_level_rankings in formatted_doubles_response[\"rankings\"]: ##used for loop to access or to itrate over required values. Created a temp list and store the value\n",
    "            for top_level_competitor_rankings in top_level_rankings.get(\"competitor_rankings\", []):  #used nested for loop to access nested list\n",
    "                temp_competitor_list = {\n",
    "                    \"competitor_id\": top_level_competitor_rankings[\"competitor\"].get(\"id\"),\n",
    "                    \"name\": top_level_competitor_rankings[\"competitor\"].get(\"name\"),\n",
    "                    \"country\": top_level_competitor_rankings[\"competitor\"].get(\"country\"),\n",
    "                    \"country_code\": top_level_competitor_rankings[\"competitor\"].get(\"country_code\"),\n",
    "                    \"abbreviation\": top_level_competitor_rankings[\"competitor\"].get(\"abbreviation\")\n",
    "                }\n",
    "                competitor_list.append(temp_competitor_list) #appending temp values to empty list\n",
    "        competitor_dataframe=pd.DataFrame(competitor_list) #to convert the list into table format using pandas dataframe.\n",
    "        competitor_dataframe.fillna(\"No value\",inplace=True) #used fillna method to replace NaN with customer values.\n",
    "        competitor_table=competitor_dataframe.to_csv(\"Table6_Competitor.csv\", index=False) #convert dataframe into csv file.\n",
    "            \n",
    "        \n",
    "    else:\n",
    "        print(f\"Error: {response.status_code} - {response.reason}\") #error handling\n",
    "        print(f\"Error Details: {response.text}\")\n",
    "except requests.exceptions.RequestException as e:\n",
    "    print(f\"Error found: {e}\")\n",
    "    \n"
   ]
  },
  {
   "cell_type": "markdown",
   "id": "db7a8bad-3c55-432e-ba26-a1b689ea22fb",
   "metadata": {},
   "source": [
    "Create a SQL database with well-designed schema"
   ]
  },
  {
   "cell_type": "raw",
   "id": "8576c333-dcb4-4b87-8460-5732716441ba",
   "metadata": {},
   "source": [
    "pip install mysql-connector-python pandas --install mysql\n",
    "\n",
    "Approach 1- Use the below script to Create a database and tables\n",
    "\n",
    "create database if not exists SportsRadarDB; -- Create Database\n",
    "use SportsRadarDB; -- Use the created database\n",
    "\n",
    "-- Create and view Categoroies Table\n",
    "create table if not exists Categories(\n",
    " category_id varchar(50) PRIMARY KEY,\n",
    " category_name VARCHAR(100) NOT NULL\n",
    " );\n",
    "select * from Categories\n",
    "\n",
    "-- Create and view Competitions Table\n",
    "create table if not exists Competitions(\n",
    " competition_id varchar(50) PRIMARY KEY,\n",
    " competition_name VARCHAR(10) NOT NULL,\n",
    " parent_id VARCHAR(50) NULL,\n",
    " type VARCHAR(20) NOT NULL,\n",
    " gender VARCHAR(10) NOT NULL,\n",
    " category_id varchar(50),\n",
    " FOREIGN KEY (category_id) REFERENCES Categories(category_id)\n",
    " ); \n",
    "select * from competitions;\n",
    "\n",
    "-- Create and view Complexes Table\n",
    "create table if not exists Complexes(\n",
    " complex_id varchar(50) PRIMARY KEY,\n",
    " complex_name VARCHAR(100) NOT NULL\n",
    " ); \n",
    "select * from complexes;\n",
    "\n",
    "-- Create and view Venues Table\n",
    "create table if not exists Venues(\n",
    " venue_id varchar(50) PRIMARY KEY,\n",
    " venue_name VARCHAR(100) NOT NULL,\n",
    " city_name VARCHAR(100) NOT NULL,\n",
    " country_name VARCHAR(100) NOT NULL,\n",
    " country_code CHAR(3) NOT NULL,\n",
    " timezone VARCHAR(100) NOT NULL,\n",
    " complex_id varchar(50),\n",
    " FOREIGN KEY (complex_id) REFERENCES complexes(complex_id)\n",
    " ); \n",
    "select * from venues;\n",
    "\n",
    "-- Create and view Competitors Table\n",
    " create table if not exists Competitors(\n",
    " competitor_id VARCHAR(50) PRIMARY KEY,\n",
    " name VARCHAR(100) NOT NULL,\n",
    " country VARCHAR(100) NOT NULL,\n",
    " country_code char(3) NOT NULL,\n",
    " abbreviation VARCHAR(10) NOT NULL\n",
    "  ); \n",
    "select * from competitors;\n",
    "\n",
    "-- Create and view Comepetitor_Rankings Table\n",
    "create table if not exists Competitor_Rankings(\n",
    " rank_id int PRIMARY KEY,\n",
    " `rank` int NOT NULL, -- use (`) to specify rank is a column name but not a reserved keyword\n",
    " movement int NOT NULL,\n",
    " points int NOT NULL,\n",
    " competitons_played int NOT NULL,\n",
    " competitor_id VARCHAR(50),\n",
    " FOREIGN KEY (competitor_id) REFERENCES Competitors(competitor_id)\n",
    " ); \n",
    "select * from Competitor_Rankings;\n",
    "\n",
    "Approach 2- Use Table Data Import Wizard from MYSQL WorkBench to create the table and insert values into it"
   ]
  },
  {
   "cell_type": "markdown",
   "id": "d81151f8-2efb-4441-b757-6719c214d22a",
   "metadata": {},
   "source": [
    "Insert values into the tables"
   ]
  },
  {
   "cell_type": "code",
   "execution_count": 2,
   "id": "3fe393a6-9776-4884-bb07-42bb5472ac2e",
   "metadata": {},
   "outputs": [
    {
     "name": "stdout",
     "output_type": "stream",
     "text": [
      "<mysql.connector.connection_cext.CMySQLConnection object at 0x00000230855EF770>\n"
     ]
    }
   ],
   "source": [
    "import mysql.connector\n",
    "db= mysql.connector.connect(\n",
    " host= \"localhost\",\n",
    " user= \"root\",\n",
    " password='aji',\n",
    " database=\"tennisdatadb\"\n",
    ")\n",
    "print(db)\n",
    "mycursor = db.cursor()"
   ]
  },
  {
   "cell_type": "markdown",
   "id": "18c8f242-f9a7-4ad3-96f3-d3c3430e6c1c",
   "metadata": {},
   "source": [
    "Query categories and competiton table"
   ]
  },
  {
   "cell_type": "code",
   "execution_count": 39,
   "id": "4f9bb50c-22cc-4146-aac3-5f3f835163cd",
   "metadata": {},
   "outputs": [],
   "source": [
    "#1) List all competitions along with their category name\n",
    "mycursor.execute(\n",
    "'''SELECT categories.category_name AS category_name, competitions.competition_name AS competition_name\n",
    "FROM categories\n",
    "INNER JOIN competitions ON categories.category_id = competitions.category_id limit 6000;'''\n",
    ")\n",
    "out=mycursor.fetchall()\n",
    "from tabulate import tabulate\n",
    "#print(tabulate(out,headers=[i[0] for i in mycursor.description],  tablefmt='psql')) "
   ]
  },
  {
   "cell_type": "code",
   "execution_count": 40,
   "id": "033aaa28-8e08-420f-949d-43e1c4ca6cd0",
   "metadata": {},
   "outputs": [],
   "source": [
    "#2)Count the number of competitions in each category\n",
    "mycursor.execute('''SELECT categories.category_name, COUNT(competitions.competition_name) as competition_count\n",
    "FROM categories\n",
    "left join competitions \n",
    "on categories.category_id=competitions.category_id\n",
    "GROUP BY categories.category_name \n",
    "ORDER BY competition_count desc''')\n",
    "out=mycursor.fetchall()\n",
    "from tabulate import tabulate\n",
    "#print(tabulate(out,headers=[i[0] for i in mycursor.description],  tablefmt='psql'))"
   ]
  },
  {
   "cell_type": "code",
   "execution_count": 14,
   "id": "fdb2eca2-42c9-473d-bac0-67d7cce1d559",
   "metadata": {},
   "outputs": [],
   "source": [
    "#3)Find all competitions of type 'doubles'\n",
    "mycursor.execute(\"select * from competitions where type='doubles'\")\n",
    "out=mycursor.fetchall()\n",
    "from tabulate import tabulate\n",
    "#print(tabulate(out,headers=[i[0] for i in mycursor.description],  tablefmt='psql'))"
   ]
  },
  {
   "cell_type": "code",
   "execution_count": 15,
   "id": "2a4d539b-37f7-4e28-9f0d-9cdc83e4fc03",
   "metadata": {},
   "outputs": [],
   "source": [
    "#4)Get competitions that belong to a specific category (e.g., ITF Men)\n",
    "mycursor.execute('''select categories.category_id,categories.category_name,competitions.competition_id,competitions.competition_name\n",
    "from categories\n",
    "inner join competitions\n",
    "on categories.category_id = competitions.category_id\n",
    "where categories.category_name = \"ITF Men\" limit 6000; ''')\n",
    "out=mycursor.fetchall()\n",
    "from tabulate import tabulate\n",
    "#print(tabulate(out,headers=[i[0] for i in mycursor.description],  tablefmt='psql'))"
   ]
  },
  {
   "cell_type": "code",
   "execution_count": 7,
   "id": "d092779b-56ad-4c0e-952c-b1bfc44c96b4",
   "metadata": {},
   "outputs": [],
   "source": [
    "#5) Identify parent competitions and their sub-competitions\n",
    "mycursor.execute(\"SELECT parent_id, category_id from competitions;\")\n",
    "out=mycursor.fetchall()\n",
    "from tabulate import tabulate\n",
    "#print(tabulate(out,headers=[i[0] for i in mycursor.description],  tablefmt='psql'))"
   ]
  },
  {
   "cell_type": "code",
   "execution_count": 9,
   "id": "60ae90b2-8d58-4f1e-a8e3-442f142e336d",
   "metadata": {},
   "outputs": [],
   "source": [
    "#6) Analyze the distribution of competition types by category\n",
    "\n",
    "mycursor.execute(\"SELECT category_id,type,count(competition_name) as count from competitions group by category_id,type;\")\n",
    "out=mycursor.fetchall()\n",
    "from tabulate import tabulate\n",
    "#print(tabulate(out,headers=[i[0] for i in mycursor.description],  tablefmt='psql'))"
   ]
  },
  {
   "cell_type": "code",
   "execution_count": 16,
   "id": "48d61112-bf2b-4502-9833-235e0c398b42",
   "metadata": {},
   "outputs": [],
   "source": [
    "#7)List all competitions with no parent (top-level competitions)\n",
    "mycursor.execute('''select competition_name,parent_id from competitions where parent_id=\"No value\";''')\n",
    "out=mycursor.fetchall()\n",
    "from tabulate import tabulate\n",
    "#print(tabulate(out,headers=[i[0] for i in mycursor.description],  tablefmt='psql'))"
   ]
  },
  {
   "cell_type": "markdown",
   "id": "49a2c7d3-fc9d-471c-8a88-0d4d0b8f4742",
   "metadata": {},
   "source": [
    "Query complexes and venues table"
   ]
  },
  {
   "cell_type": "code",
   "execution_count": 19,
   "id": "d06ad321-aec3-42fd-b3fe-734a8f3d58f0",
   "metadata": {},
   "outputs": [],
   "source": [
    "#1)List all venues along with their associated complex name\n",
    "mycursor.execute('''select venues.venue_name,complexes.complex_name from venues inner join complexes on venues.complex_id = complexes.complex_id;''')\n",
    "out=mycursor.fetchall()\n",
    "from tabulate import tabulate\n",
    "#print(tabulate(out,headers=[i[0] for i in mycursor.description],  tablefmt='psql'))\n"
   ]
  },
  {
   "cell_type": "code",
   "execution_count": 23,
   "id": "917c3f54-5741-4a8d-865b-dc6acc551dc5",
   "metadata": {},
   "outputs": [],
   "source": [
    "#2) Count the number of venues in each complex\n",
    "mycursor.execute('''SELECT complexes.complex_name, COUNT(venues.venue_name) as venue_count\n",
    "FROM complexes\n",
    "left join venues \n",
    "on complexes.complex_id=venues.complex_id\n",
    "GROUP BY complexes.complex_name \n",
    "ORDER BY venue_count desc;''')\n",
    "out=mycursor.fetchall()\n",
    "from tabulate import tabulate\n",
    "#print(tabulate(out,headers=[i[0] for i in mycursor.description],  tablefmt='psql'))"
   ]
  },
  {
   "cell_type": "code",
   "execution_count": 26,
   "id": "3c0fa266-109a-4a1b-a2bf-3b4fd0ac9f28",
   "metadata": {},
   "outputs": [],
   "source": [
    "#3) Get details of venues in a specific country (e.g., Chile)\n",
    "mycursor.execute('''select * from venues where country_name = \"Chile\" or country_code = \"CHL\";\n",
    "''')\n",
    "out=mycursor.fetchall()\n",
    "from tabulate import tabulate\n",
    "#print(tabulate(out,headers=[i[0] for i in mycursor.description],  tablefmt='psql'))"
   ]
  },
  {
   "cell_type": "code",
   "execution_count": 29,
   "id": "e54005af-27ee-41ff-ad72-8a58924c223d",
   "metadata": {},
   "outputs": [],
   "source": [
    "#4) Identify all venues and their timezones\n",
    "mycursor.execute('''select venue_id,venue_name,timezone from venues;\n",
    "''')\n",
    "out=mycursor.fetchall()\n",
    "from tabulate import tabulate\n",
    "#print(tabulate(out,headers=[i[0] for i in mycursor.description],  tablefmt='psql'))"
   ]
  },
  {
   "cell_type": "code",
   "execution_count": 32,
   "id": "5b1d6014-0ace-4907-9788-cfcc018e6a37",
   "metadata": {},
   "outputs": [],
   "source": [
    "#5) Find complexes that have more than one venue\n",
    "mycursor.execute('''select venues.complex_id,complexes.complex_name,count(venues.venue_id) as venue_count \n",
    "from complexes \n",
    "inner join venues\n",
    "on complexes.complex_id=venues.complex_id\n",
    "group by venues.complex_id,complexes.complex_name having count(venues.venue_id)>1;\n",
    "''')\n",
    "out=mycursor.fetchall()\n",
    "from tabulate import tabulate\n",
    "#print(tabulate(out,headers=[i[0] for i in mycursor.description],  tablefmt='psql'))#"
   ]
  },
  {
   "cell_type": "code",
   "execution_count": 35,
   "id": "89270797-2792-4ee1-b61c-bbd0b48edc7b",
   "metadata": {},
   "outputs": [],
   "source": [
    "#6) List venues grouped by country\n",
    "mycursor.execute('''SELECT country_name, GROUP_CONCAT(venue_name SEPARATOR ' | ') AS venues FROM venues GROUP BY country_name;\n",
    "''')\n",
    "out=mycursor.fetchall()\n",
    "from tabulate import tabulate\n",
    "#print(tabulate(out,headers=[i[0] for i in mycursor.description],  tablefmt='psql'))"
   ]
  },
  {
   "cell_type": "code",
   "execution_count": 38,
   "id": "16eeb54d-91f8-4fbd-abc8-c3e736d22929",
   "metadata": {},
   "outputs": [],
   "source": [
    "#7) Find all venues for a specific complex (e.g., Nacional)\n",
    "mycursor.execute('''select complexes.complex_id,complexes.complex_name,venues.venue_name from complexes inner join venues \n",
    "on venues.complex_id = complexes.complex_id where complexes.complex_name=\"Tennis Club Sparta Praha\"\n",
    "''')\n",
    "out=mycursor.fetchall()\n",
    "from tabulate import tabulate\n",
    "#print(tabulate(out,headers=[i[0] for i in mycursor.description],  tablefmt='psql'))\n"
   ]
  },
  {
   "cell_type": "markdown",
   "id": "983186ff-1d16-41bb-9396-25b6ee9742a4",
   "metadata": {},
   "source": [
    "Query competitor and competitor rankings tables"
   ]
  },
  {
   "cell_type": "code",
   "execution_count": 8,
   "id": "8f320a1c-f366-44d0-b6a8-4b01a29f94e7",
   "metadata": {},
   "outputs": [],
   "source": [
    "#1) Get all competitors with their rank and points.\n",
    "mycursor.execute('''select competitor.competitor_id,competitor.name,competitor_rankings.rank,competitor_rankings.points\n",
    "from competitor\n",
    "inner join competitor_rankings\n",
    "on competitor.competitor_id=competitor_rankings.competitor_id;\n",
    "''')\n",
    "out=mycursor.fetchall()\n",
    "from tabulate import tabulate\n",
    "#print(tabulate(out,headers=[i[0] for i in mycursor.description],  tablefmt='psql'))\n"
   ]
  },
  {
   "cell_type": "code",
   "execution_count": 13,
   "id": "6a443e91-6bfb-4bce-a376-9a984cfab828",
   "metadata": {},
   "outputs": [],
   "source": [
    "#2) Find competitors ranked in the top 5\n",
    "mycursor.execute('''select competitor.competitor_id,competitor.name,competitor_rankings.rank,competitor_rankings.points\n",
    "from competitor\n",
    "inner join competitor_rankings\n",
    "on competitor.competitor_id=competitor_rankings.competitor_id\n",
    "where competitor_rankings.rank>=\"1\" and competitor_rankings.rank<=\"5\"\n",
    "order by `rank`,points desc limit 5;\n",
    "''')\n",
    "output1=mycursor.fetchall()\n",
    "from tabulate import tabulate\n",
    "#print(tabulate(output1,headers=[i[0] for i in mycursor.description],  tablefmt='psql'))\n"
   ]
  },
  {
   "cell_type": "code",
   "execution_count": 16,
   "id": "827563c0-3e37-4967-9bd9-e77760258942",
   "metadata": {},
   "outputs": [],
   "source": [
    "#3)List competitors with no rank movement (stable rank)\n",
    "mycursor.execute('''select competitor.competitor_id,competitor.name,competitor_rankings.`rank`, competitor_rankings.movement\n",
    "from competitor\n",
    "inner join competitor_rankings\n",
    "on competitor.competitor_id=competitor_rankings.competitor_id \n",
    "where competitor_rankings.movement='0';\n",
    "''')\n",
    "output1=mycursor.fetchall()\n",
    "from tabulate import tabulate\n",
    "#print(tabulate(output1,headers=[i[0] for i in mycursor.description],  tablefmt='psql'))\n"
   ]
  },
  {
   "cell_type": "code",
   "execution_count": 9,
   "id": "8e66d984-634e-4820-a7d6-138d2a858e08",
   "metadata": {},
   "outputs": [],
   "source": [
    "#4) Get the total points of competitors from a specific country (e.g., Croatia)\n",
    "mycursor.execute('''select competitor.country,count(competitor.name) as Total_Competitors_from_a_country, sum(competitor_rankings.points) as Total_Points_Scored\n",
    "from competitor\n",
    "inner join competitor_rankings\n",
    "on competitor.competitor_id=competitor_rankings.competitor_id \n",
    "Group by competitor.country having competitor.country=\"India\";\n",
    "''')\n",
    "output1=mycursor.fetchall()\n",
    "from tabulate import tabulate\n",
    "#print(tabulate(output1,headers=[i[0] for i in mycursor.description],  tablefmt='psql'))"
   ]
  },
  {
   "cell_type": "code",
   "execution_count": 7,
   "id": "3c45ef51-bc83-4e07-9b59-531c4bdf6ded",
   "metadata": {},
   "outputs": [],
   "source": [
    "#5) Count the number of competitors per country\n",
    "mycursor.execute('''select country, count(name) as Competitors_per_Country from competitor group by country;\n",
    "''')\n",
    "output1=mycursor.fetchall()\n",
    "from tabulate import tabulate\n",
    "#print(tabulate(output1,headers=[i[0] for i in mycursor.description],  tablefmt='psql'))"
   ]
  },
  {
   "cell_type": "code",
   "execution_count": 8,
   "id": "49b37472-953f-4069-92a6-e3c4c0e41ebb",
   "metadata": {},
   "outputs": [],
   "source": [
    "#6) Find competitors with the highest points in the current week\n",
    "mycursor.execute('''select competitor.competitor_id,competitor.name,competitor_rankings.`rank`,competitor_rankings.points as max_points_scored\n",
    "from competitor\n",
    "inner join competitor_rankings\n",
    "on competitor.competitor_id=competitor_rankings.competitor_id\n",
    "where competitor_rankings.points= (select max(points) from competitor_rankings);\n",
    "''')\n",
    "output1=mycursor.fetchall()\n",
    "from tabulate import tabulate\n",
    "#print(tabulate(output1,headers=[i[0] for i in mycursor.description],  tablefmt='psql'))"
   ]
  },
  {
   "cell_type": "code",
   "execution_count": null,
   "id": "3ed8d369-a576-45f6-bcfa-d9e33b460298",
   "metadata": {},
   "outputs": [],
   "source": []
  }
 ],
 "metadata": {
  "kernelspec": {
   "display_name": "Python 3 (ipykernel)",
   "language": "python",
   "name": "python3"
  },
  "language_info": {
   "codemirror_mode": {
    "name": "ipython",
    "version": 3
   },
   "file_extension": ".py",
   "mimetype": "text/x-python",
   "name": "python",
   "nbconvert_exporter": "python",
   "pygments_lexer": "ipython3",
   "version": "3.13.1"
  }
 },
 "nbformat": 4,
 "nbformat_minor": 5
}
